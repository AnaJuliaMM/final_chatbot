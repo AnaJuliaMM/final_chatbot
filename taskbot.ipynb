{
  "nbformat": 4,
  "nbformat_minor": 0,
  "metadata": {
    "colab": {
      "provenance": [],
      "collapsed_sections": [
        "IkxXRj2fpV8I",
        "MGR_51XzGV4t",
        "y0ljOe7r7jvZ",
        "DSaMufixpvNf",
        "SKqyOOgAIV7O"
      ],
      "include_colab_link": true
    },
    "kernelspec": {
      "name": "python3",
      "display_name": "Python 3"
    },
    "language_info": {
      "name": "python"
    }
  },
  "cells": [
    {
      "cell_type": "markdown",
      "metadata": {
        "id": "view-in-github",
        "colab_type": "text"
      },
      "source": [
        "<a href=\"https://colab.research.google.com/github/AnaJuliaMM/final_chatbot/blob/develop/taskbot.ipynb\" target=\"_parent\"><img src=\"https://colab.research.google.com/assets/colab-badge.svg\" alt=\"Open In Colab\"/></a>"
      ]
    },
    {
      "cell_type": "markdown",
      "source": [],
      "metadata": {
        "id": "0gM4udARIXLm"
      }
    },
    {
      "cell_type": "markdown",
      "source": [
        "### Dependências Externas"
      ],
      "metadata": {
        "id": "lxVn8vCmEZ6j"
      }
    },
    {
      "cell_type": "code",
      "source": [
        "!pip install --upgrade nltk\n",
        "!pip install fuzzywuzzy"
      ],
      "metadata": {
        "id": "6PN4t5-pEXLq",
        "outputId": "0cc88949-9d6b-4531-c60a-170474726e15",
        "colab": {
          "base_uri": "https://localhost:8080/"
        }
      },
      "execution_count": 7,
      "outputs": [
        {
          "output_type": "stream",
          "name": "stdout",
          "text": [
            "Requirement already satisfied: nltk in /usr/local/lib/python3.10/dist-packages (3.9.1)\n",
            "Requirement already satisfied: click in /usr/local/lib/python3.10/dist-packages (from nltk) (8.1.7)\n",
            "Requirement already satisfied: joblib in /usr/local/lib/python3.10/dist-packages (from nltk) (1.4.2)\n",
            "Requirement already satisfied: regex>=2021.8.3 in /usr/local/lib/python3.10/dist-packages (from nltk) (2024.9.11)\n",
            "Requirement already satisfied: tqdm in /usr/local/lib/python3.10/dist-packages (from nltk) (4.66.6)\n",
            "Requirement already satisfied: fuzzywuzzy in /usr/local/lib/python3.10/dist-packages (0.18.0)\n"
          ]
        }
      ]
    },
    {
      "cell_type": "code",
      "source": [
        "import pandas as pd\n",
        "import string\n",
        "import nltk\n",
        "from dataclasses import dataclass, field\n",
        "from nltk.tokenize import word_tokenize\n",
        "from nltk.corpus import stopwords\n",
        "from nltk.stem import RSLPStemmer\n",
        "from typing import List, Optional\n",
        "from fuzzywuzzy import fuzz\n",
        "\n",
        "# Baixar os pacotes necessários do NLTK\n",
        "nltk.download('punkt_tab')\n",
        "nltk.download('rslp')\n",
        "nltk.download('stopwords')\n"
      ],
      "metadata": {
        "id": "BY4Q-d75Dnvy",
        "outputId": "91810688-bf8d-475c-891a-7232647e2570",
        "colab": {
          "base_uri": "https://localhost:8080/"
        }
      },
      "execution_count": 6,
      "outputs": [
        {
          "output_type": "stream",
          "name": "stderr",
          "text": [
            "[nltk_data] Downloading package punkt_tab to /root/nltk_data...\n",
            "[nltk_data]   Package punkt_tab is already up-to-date!\n",
            "[nltk_data] Downloading package rslp to /root/nltk_data...\n",
            "[nltk_data]   Package rslp is already up-to-date!\n",
            "[nltk_data] Downloading package stopwords to /root/nltk_data...\n",
            "[nltk_data]   Package stopwords is already up-to-date!\n"
          ]
        },
        {
          "output_type": "execute_result",
          "data": {
            "text/plain": [
              "True"
            ]
          },
          "metadata": {},
          "execution_count": 6
        }
      ]
    },
    {
      "cell_type": "markdown",
      "source": [
        "## Dados para consulta"
      ],
      "metadata": {
        "id": "XZpHKEBNEdYa"
      }
    },
    {
      "cell_type": "code",
      "source": [
        "\n",
        "# Dados iniciais\n",
        "tasks = {\n",
        "    'task_id': [1, 2, 3, 4, 5],\n",
        "    'task_name': [\n",
        "        'Comprar leite',\n",
        "        'Enviar e-mail',\n",
        "        'Reunião com a equipe',\n",
        "        'Revisar relatório',\n",
        "        'Organizar arquivos'\n",
        "    ],\n",
        "    'status': ['pendente', 'concluída', 'pendente', 'pendente', 'concluída'],\n",
        "    'created_at': pd.to_datetime([\n",
        "        '2023-10-01 09:00:00',\n",
        "        '2023-10-01 10:00:00',\n",
        "        '2023-10-02 11:00:00',\n",
        "        '2023-10-03 12:30:00',\n",
        "        '2023-10-04 14:15:00'\n",
        "    ]),\n",
        "    'due_date': pd.to_datetime([\n",
        "        '2023-10-05',\n",
        "        '2023-10-02',\n",
        "        '2023-10-04',\n",
        "        '2023-10-05',\n",
        "        '2023-10-06'\n",
        "    ])\n",
        "}\n",
        "\n",
        "tasks_df = pd.DataFrame(tasks)"
      ],
      "metadata": {
        "id": "oAKrS2TnDpWb"
      },
      "execution_count": 8,
      "outputs": []
    },
    {
      "cell_type": "markdown",
      "source": [
        "## Estrutura da Árvore de Decisão"
      ],
      "metadata": {
        "id": "sQdWBuEsFe8h"
      }
    },
    {
      "cell_type": "markdown",
      "source": [
        "### Classe Node"
      ],
      "metadata": {
        "id": "ZjXavJPjEhEs"
      }
    },
    {
      "cell_type": "code",
      "source": [
        "@dataclass\n",
        "class Node:\n",
        "    \"\"\"Representa um nó da árvore com um valor e filhos.\"\"\"\n",
        "    value: str\n",
        "    children: List['Node'] = field(default_factory=list)"
      ],
      "metadata": {
        "id": "JZFZ1uvVDtTj"
      },
      "execution_count": null,
      "outputs": []
    },
    {
      "cell_type": "markdown",
      "source": [
        "### Classe Tree\n"
      ],
      "metadata": {
        "id": "QVcCgEBWEjc7"
      }
    },
    {
      "cell_type": "code",
      "source": [
        "class Tree:\n",
        "    def __init__(self, value: str, stemmer=None):\n",
        "        self.root = Node(value)\n",
        "        self.stemmer = stemmer\n",
        "\n",
        "    def _stem_if_needed(self, value: str) -> str:\n",
        "        \"\"\"Aplica o stemming ao valor se o stemmer estiver configurado.\"\"\"\n",
        "        return self.stemmer.stem(value) if self.stemmer else value\n",
        "\n",
        "    def add_child(self, parent_value: str, value: str):\n",
        "        parent_value = self._stem_if_needed(parent_value)\n",
        "        value = self._stem_if_needed(value)\n",
        "        parent_node = self.search(parent_value)\n",
        "        if not parent_node:\n",
        "            raise ValueError(f\"Nó pai '{parent_value}' não encontrado.\")\n",
        "        if not any(child.value == value for child in parent_node.children):\n",
        "            parent_node.children.append(Node(value))\n",
        "            print(f\"Adicionado nó: {value} como filho de: {parent_value}\")\n",
        "\n",
        "    def search(self, value: str, node: Optional[Node] = None) -> Optional[Node]:\n",
        "        if node is None:\n",
        "            node = self.root\n",
        "        if self._match_value(node.value, value):\n",
        "            return node\n",
        "        for child in node.children:\n",
        "            result = self.search(value, child)\n",
        "            if result:\n",
        "                return result\n",
        "        return None\n",
        "\n",
        "    def _match_value(self, node_value: str, search_value: str) -> bool:\n",
        "        search_value = self._stem_if_needed(search_value)\n",
        "        similarity = fuzz.ratio(node_value, search_value)\n",
        "        return similarity > 80"
      ],
      "metadata": {
        "id": "jRJH0n-fEJCq"
      },
      "execution_count": null,
      "outputs": []
    },
    {
      "cell_type": "markdown",
      "source": [
        "### Instãncia da árvore de decisão"
      ],
      "metadata": {
        "id": "LsgS8BG0Em8y"
      }
    },
    {
      "cell_type": "code",
      "source": [
        "\n",
        "# Instanciar árvore de decisão\n",
        "stemmer = RSLPStemmer()\n",
        "tree = Tree(\"chatbot\", stemmer)\n",
        "\n",
        "# Preencher a árvore de decisão\n",
        "tree.add_child(\"chatbot\", \"taref\")  # Stemming de \"tarefa\"\n",
        "tree.add_child(\"taref\", \"adicion\")  # Stemming de \"adicionar\"\n",
        "tree.add_child(\"taref\", \"list\")     # Stemming de \"listar\"\n",
        "tree.add_child(\"taref\", \"encontr\")  # Stemming de \"encontrar\"\n",
        "tree.add_child(\"taref\", \"conclu\")   # Stemming de \"concluir\"\n",
        "tree.add_child(\"taref\", \"exclu\")    # Stemming de \"excluir\"\n",
        "\n",
        "# Adicionar a entidade \"status\" e sua intenção \"alterar\"\n",
        "tree.add_child(\"chatbot\", \"status\")  # Stemming de \"status\"\n",
        "tree.add_child(\"status\", \"alter\")   # Stemming de \"alterar\""
      ],
      "metadata": {
        "id": "MjvT77sBEK8q",
        "outputId": "899f972c-6f6d-486a-8a27-277c6687f08c",
        "colab": {
          "base_uri": "https://localhost:8080/"
        }
      },
      "execution_count": 9,
      "outputs": [
        {
          "output_type": "stream",
          "name": "stdout",
          "text": [
            "Adicionado nó: taref como filho de: chatbot\n",
            "Adicionado nó: adicion como filho de: taref\n",
            "Adicionado nó: list como filho de: taref\n",
            "Adicionado nó: encontr como filho de: taref\n",
            "Adicionado nó: conclu como filho de: taref\n",
            "Adicionado nó: exclu como filho de: taref\n",
            "Adicionado nó: statu como filho de: chatbot\n",
            "Adicionado nó: alt como filho de: statu\n"
          ]
        }
      ]
    },
    {
      "cell_type": "markdown",
      "source": [
        "### Funções de manipulação dos dados"
      ],
      "metadata": {
        "id": "a7_6U-QIEt8y"
      }
    },
    {
      "cell_type": "code",
      "source": [
        "# Funções associadas\n",
        "def add_task_to_df():\n",
        "    \"\"\"\n",
        "    Adiciona uma nova tarefa ao DataFrame global tasks_df.\n",
        "    \"\"\"\n",
        "    global tasks_df\n",
        "    try:\n",
        "        task_name = input(\"Digite o nome da tarefa: \").strip()\n",
        "        due_date = input(\"Digite a data final da tarefa (YYYY-MM-DD): \").strip()\n",
        "        due_date = pd.to_datetime(due_date, format='%Y-%m-%d', errors='coerce')\n",
        "        if pd.isna(due_date):\n",
        "            print(\"Data inválida. Por favor, use o formato YYYY-MM-DD.\")\n",
        "            return\n",
        "        new_task = {\n",
        "            'task_id': tasks_df['task_id'].max() + 1 if not tasks_df.empty else 1,\n",
        "            'task_name': task_name,\n",
        "            'status': 'pendente',\n",
        "            'created_at': pd.Timestamp.now(),\n",
        "            'due_date': due_date\n",
        "        }\n",
        "        tasks_df = pd.concat([tasks_df, pd.DataFrame([new_task])], ignore_index=True)\n",
        "        print(f\"Tarefa '{task_name}' adicionada com sucesso!\")\n",
        "        print(\"Agora as suas tarefas estão assim:\")\n",
        "        list_tasks()\n",
        "    except Exception as e:\n",
        "        print(f\"Erro ao adicionar tarefa: {e}\")"
      ],
      "metadata": {
        "id": "T8LKI6LIDxki"
      },
      "execution_count": 10,
      "outputs": []
    },
    {
      "cell_type": "code",
      "source": [
        "def list_tasks():\n",
        "    \"\"\"\n",
        "    Lista todas as tarefas do DataFrame global tasks_df.\n",
        "    \"\"\"\n",
        "    print(\"Tarefas no sistema:\")\n",
        "    print(tasks_df)"
      ],
      "metadata": {
        "id": "Y0KtwIBnDy6q"
      },
      "execution_count": 11,
      "outputs": []
    },
    {
      "cell_type": "code",
      "source": [
        "def delete_task():\n",
        "    \"\"\"\n",
        "    Deleta uma tarefa do DataFrame global tasks_df com base no ID fornecido pelo usuário.\n",
        "    Antes de deletar, lista todas as tarefas disponíveis.\n",
        "    \"\"\"\n",
        "    global tasks_df\n",
        "    try:\n",
        "        # Listar todas as tarefas antes de solicitar o ID\n",
        "        print(\"Aqui estão todas as tarefas disponíveis:\")\n",
        "        list_tasks()\n",
        "\n",
        "        task_id = int(input(\"Digite o ID da tarefa a ser deletada: \").strip())\n",
        "        if task_id in tasks_df['task_id'].values:\n",
        "            tasks_df = tasks_df[tasks_df['task_id'] != task_id].reset_index(drop=True)\n",
        "            print(f\"Tarefa com ID {task_id} deletada com sucesso!\")\n",
        "            print(\"Agora as suas tarefas estão assim:\")\n",
        "            list_tasks()\n",
        "        else:\n",
        "            print(f\"Nenhuma tarefa encontrada com o ID {task_id}.\")\n",
        "    except ValueError:\n",
        "        print(\"ID inválido. Por favor, insira um número inteiro.\")\n",
        "    except Exception as e:\n",
        "        print(f\"Erro ao deletar tarefa: {e}\")\n"
      ],
      "metadata": {
        "id": "I3lwsRL0D0NB"
      },
      "execution_count": 12,
      "outputs": []
    },
    {
      "cell_type": "code",
      "source": [
        "def alter_task_status():\n",
        "    \"\"\"\n",
        "    Altera o status de uma tarefa no DataFrame global tasks_df com base no ID fornecido pelo usuário.\n",
        "    Antes de alterar, lista todas as tarefas disponíveis.\n",
        "    \"\"\"\n",
        "    global tasks_df\n",
        "    try:\n",
        "        # Listar todas as tarefas antes de solicitar o ID\n",
        "        print(\"Aqui estão todas as tarefas disponíveis:\")\n",
        "        list_tasks()\n",
        "\n",
        "        task_id = int(input(\"Digite o ID da tarefa que deseja alterar: \").strip())\n",
        "        if task_id in tasks_df['task_id'].values:\n",
        "            print(\"Escolha o novo status para a tarefa:\")\n",
        "            print(\"P - Pendente\")\n",
        "            print(\"C - Concluída\")\n",
        "            status_option = input(\"Digite o número correspondente ao novo status: \").strip()\n",
        "\n",
        "            if status_option == 'P':\n",
        "                new_status = 'pendente'\n",
        "            elif status_option == 'C':\n",
        "                new_status = 'concluída'\n",
        "            else:\n",
        "                print(\"Opção inválida. O status não foi alterado.\")\n",
        "                return\n",
        "\n",
        "            tasks_df.loc[tasks_df['task_id'] == task_id, 'status'] = new_status\n",
        "            print(f\"O status da tarefa com ID {task_id} foi alterado para '{new_status}'.\")\n",
        "            print(\"Agora as suas tarefas estão assim:\")\n",
        "            list_tasks()\n",
        "        else:\n",
        "            print(f\"Nenhuma tarefa encontrada com o ID {task_id}.\")\n",
        "            list_tasks()\n",
        "    except ValueError:\n",
        "        print(\"ID inválido. Por favor, insira um número inteiro.\")\n",
        "    except Exception as e:\n",
        "        print(f\"Erro ao alterar o status da tarefa: {e}\")"
      ],
      "metadata": {
        "id": "ou20Th8hD47S"
      },
      "execution_count": 13,
      "outputs": []
    },
    {
      "cell_type": "markdown",
      "source": [
        "### Mapeamento de intenções para funções"
      ],
      "metadata": {
        "id": "PZexgK9UEwZi"
      }
    },
    {
      "cell_type": "code",
      "source": [
        "intent_function_map = {\n",
        "    'adicion': add_task_to_df,\n",
        "    'list': list_tasks,\n",
        "    'exclu': delete_task,\n",
        "    'alter': alter_task_status\n",
        "}"
      ],
      "metadata": {
        "id": "di4ZI7swD836"
      },
      "execution_count": 14,
      "outputs": []
    },
    {
      "cell_type": "markdown",
      "source": [
        "## Funções de processamento do prompt do usuário"
      ],
      "metadata": {
        "id": "EdvhWkdBE1uh"
      }
    },
    {
      "cell_type": "code",
      "source": [
        "def preprocess_prompt(prompt: str) -> List[str]:\n",
        "    tokens = word_tokenize(prompt.lower())\n",
        "    tokens = [word for word in tokens if word not in stopwords.words('portuguese') and word not in string.punctuation]\n",
        "    tokens = [stemmer.stem(token) for token in tokens]\n",
        "    return tokens"
      ],
      "metadata": {
        "id": "8EL1lnV2D9Oa"
      },
      "execution_count": 15,
      "outputs": []
    },
    {
      "cell_type": "code",
      "source": [
        "def process_prompt(prompt: str):\n",
        "    \"\"\"\n",
        "    Processa o prompt do usuário, identificando entidade e intenção,\n",
        "    e executa a função correspondente.\n",
        "    \"\"\"\n",
        "    tokens = preprocess_prompt(prompt)\n",
        "    print(f\"Tokens processados: {tokens}\")\n",
        "    entity, intent = None, None\n",
        "\n",
        "    for token in tokens:\n",
        "        if not entity and tree.search(token):\n",
        "            entity = token\n",
        "            break\n",
        "\n",
        "    if entity:\n",
        "        for token in tokens:\n",
        "            if tree.search(token, tree.search(entity)):\n",
        "                intent = token\n",
        "                break\n",
        "\n",
        "    if entity and intent:\n",
        "        action = intent_function_map.get(intent)\n",
        "        if action:\n",
        "            action()\n",
        "        else:\n",
        "            print(\"Ação não encontrada para a intenção.\")\n",
        "    else:\n",
        "        print(\"Desculpe, não consegui entender o que você deseja.\")"
      ],
      "metadata": {
        "id": "CV6g-Lx7D_W6"
      },
      "execution_count": 16,
      "outputs": []
    },
    {
      "cell_type": "markdown",
      "source": [
        "### Função principal"
      ],
      "metadata": {
        "id": "mAVjd2AsE7Vw"
      }
    },
    {
      "cell_type": "code",
      "source": [
        "def main():\n",
        "    print(\"Olá, seja bem-vindo(a) ao chatbot de tarefas!\")\n",
        "    print(\"Atualmente você tem essas tarefas:\")\n",
        "    list_tasks()\n",
        "    while True:\n",
        "        prompt = input(\"O que você gostaria de fazer? (Adicionar tarefa | Alterar Status | Listar tarefas | Excluir tarefas | Sair para encerrar o chat): \")\n",
        "        if prompt.lower() == 'sair':\n",
        "            print(\"Até mais!\")\n",
        "            break\n",
        "        process_prompt(prompt)"
      ],
      "metadata": {
        "id": "QK9JRSyGDlEK"
      },
      "execution_count": 17,
      "outputs": []
    },
    {
      "cell_type": "code",
      "source": [
        "main()"
      ],
      "metadata": {
        "id": "aOwRhbDXEDkT",
        "outputId": "11f4302e-dfd7-4f4f-d0a1-810dbf3393b7",
        "colab": {
          "base_uri": "https://localhost:8080/"
        }
      },
      "execution_count": 18,
      "outputs": [
        {
          "output_type": "stream",
          "name": "stdout",
          "text": [
            "Olá, seja bem-vindo(a) ao chatbot de tarefas!\n",
            "Atualmente você tem essas tarefas:\n",
            "Tarefas no sistema:\n",
            "   task_id             task_name     status          created_at   due_date\n",
            "0        1         Comprar leite   pendente 2023-10-01 09:00:00 2023-10-05\n",
            "1        2         Enviar e-mail  concluída 2023-10-01 10:00:00 2023-10-02\n",
            "2        3  Reunião com a equipe   pendente 2023-10-02 11:00:00 2023-10-04\n",
            "3        4     Revisar relatório   pendente 2023-10-03 12:30:00 2023-10-05\n",
            "4        5    Organizar arquivos  concluída 2023-10-04 14:15:00 2023-10-06\n",
            "O que você gostaria de fazer? (Adicionar tarefa | Alterar Status | Listar tarefas | Excluir tarefas | Sair para encerrar o chat): adicionar tarefa\n",
            "Tokens processados: ['adicion', 'taref']\n",
            "Digite o nome da tarefa: aaaaaaaaaaa\n",
            "Digite a data final da tarefa (YYYY-MM-DD): 2024-10-12\n",
            "Tarefa 'aaaaaaaaaaa' adicionada com sucesso!\n",
            "Agora as suas tarefas estão assim:\n",
            "Tarefas no sistema:\n",
            "   task_id             task_name     status                 created_at  \\\n",
            "0        1         Comprar leite   pendente 2023-10-01 09:00:00.000000   \n",
            "1        2         Enviar e-mail  concluída 2023-10-01 10:00:00.000000   \n",
            "2        3  Reunião com a equipe   pendente 2023-10-02 11:00:00.000000   \n",
            "3        4     Revisar relatório   pendente 2023-10-03 12:30:00.000000   \n",
            "4        5    Organizar arquivos  concluída 2023-10-04 14:15:00.000000   \n",
            "5        6           aaaaaaaaaaa   pendente 2024-12-02 20:38:16.591882   \n",
            "\n",
            "    due_date  \n",
            "0 2023-10-05  \n",
            "1 2023-10-02  \n",
            "2 2023-10-04  \n",
            "3 2023-10-05  \n",
            "4 2023-10-06  \n",
            "5 2024-10-12  \n",
            "O que você gostaria de fazer? (Adicionar tarefa | Alterar Status | Listar tarefas | Excluir tarefas | Sair para encerrar o chat): Alterar Status\n",
            "Tokens processados: ['alter', 'statu']\n",
            "Aqui estão todas as tarefas disponíveis:\n",
            "Tarefas no sistema:\n",
            "   task_id             task_name     status                 created_at  \\\n",
            "0        1         Comprar leite   pendente 2023-10-01 09:00:00.000000   \n",
            "1        2         Enviar e-mail  concluída 2023-10-01 10:00:00.000000   \n",
            "2        3  Reunião com a equipe   pendente 2023-10-02 11:00:00.000000   \n",
            "3        4     Revisar relatório   pendente 2023-10-03 12:30:00.000000   \n",
            "4        5    Organizar arquivos  concluída 2023-10-04 14:15:00.000000   \n",
            "5        6           aaaaaaaaaaa   pendente 2024-12-02 20:38:16.591882   \n",
            "\n",
            "    due_date  \n",
            "0 2023-10-05  \n",
            "1 2023-10-02  \n",
            "2 2023-10-04  \n",
            "3 2023-10-05  \n",
            "4 2023-10-06  \n",
            "5 2024-10-12  \n",
            "Digite o ID da tarefa que deseja alterar: 3\n",
            "Escolha o novo status para a tarefa:\n",
            "P - Pendente\n",
            "C - Concluída\n",
            "Digite o número correspondente ao novo status: C\n",
            "O status da tarefa com ID 3 foi alterado para 'concluída'.\n",
            "Agora as suas tarefas estão assim:\n",
            "Tarefas no sistema:\n",
            "   task_id             task_name     status                 created_at  \\\n",
            "0        1         Comprar leite   pendente 2023-10-01 09:00:00.000000   \n",
            "1        2         Enviar e-mail  concluída 2023-10-01 10:00:00.000000   \n",
            "2        3  Reunião com a equipe  concluída 2023-10-02 11:00:00.000000   \n",
            "3        4     Revisar relatório   pendente 2023-10-03 12:30:00.000000   \n",
            "4        5    Organizar arquivos  concluída 2023-10-04 14:15:00.000000   \n",
            "5        6           aaaaaaaaaaa   pendente 2024-12-02 20:38:16.591882   \n",
            "\n",
            "    due_date  \n",
            "0 2023-10-05  \n",
            "1 2023-10-02  \n",
            "2 2023-10-04  \n",
            "3 2023-10-05  \n",
            "4 2023-10-06  \n",
            "5 2024-10-12  \n",
            "O que você gostaria de fazer? (Adicionar tarefa | Alterar Status | Listar tarefas | Excluir tarefas | Sair para encerrar o chat): Excluir tarefas\n",
            "Tokens processados: ['exclu', 'taref']\n",
            "Aqui estão todas as tarefas disponíveis:\n",
            "Tarefas no sistema:\n",
            "   task_id             task_name     status                 created_at  \\\n",
            "0        1         Comprar leite   pendente 2023-10-01 09:00:00.000000   \n",
            "1        2         Enviar e-mail  concluída 2023-10-01 10:00:00.000000   \n",
            "2        3  Reunião com a equipe  concluída 2023-10-02 11:00:00.000000   \n",
            "3        4     Revisar relatório   pendente 2023-10-03 12:30:00.000000   \n",
            "4        5    Organizar arquivos  concluída 2023-10-04 14:15:00.000000   \n",
            "5        6           aaaaaaaaaaa   pendente 2024-12-02 20:38:16.591882   \n",
            "\n",
            "    due_date  \n",
            "0 2023-10-05  \n",
            "1 2023-10-02  \n",
            "2 2023-10-04  \n",
            "3 2023-10-05  \n",
            "4 2023-10-06  \n",
            "5 2024-10-12  \n",
            "Digite o ID da tarefa a ser deletada: 3\n",
            "Tarefa com ID 3 deletada com sucesso!\n",
            "Agora as suas tarefas estão assim:\n",
            "Tarefas no sistema:\n",
            "   task_id           task_name     status                 created_at  \\\n",
            "0        1       Comprar leite   pendente 2023-10-01 09:00:00.000000   \n",
            "1        2       Enviar e-mail  concluída 2023-10-01 10:00:00.000000   \n",
            "2        4   Revisar relatório   pendente 2023-10-03 12:30:00.000000   \n",
            "3        5  Organizar arquivos  concluída 2023-10-04 14:15:00.000000   \n",
            "4        6         aaaaaaaaaaa   pendente 2024-12-02 20:38:16.591882   \n",
            "\n",
            "    due_date  \n",
            "0 2023-10-05  \n",
            "1 2023-10-02  \n",
            "2 2023-10-05  \n",
            "3 2023-10-06  \n",
            "4 2024-10-12  \n",
            "O que você gostaria de fazer? (Adicionar tarefa | Alterar Status | Listar tarefas | Excluir tarefas | Sair para encerrar o chat): sair\n",
            "Até mais!\n"
          ]
        }
      ]
    }
  ]
}